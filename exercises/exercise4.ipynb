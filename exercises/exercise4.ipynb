{
 "metadata": {
  "name": "",
  "signature": "sha256:16a59af911f90c134b368e6f5c53e20b4b90c609aac2a6c559cf11d21c6e17e7"
 },
 "nbformat": 3,
 "nbformat_minor": 0,
 "worksheets": [
  {
   "cells": [
    {
     "cell_type": "code",
     "collapsed": false,
     "input": [],
     "language": "python",
     "metadata": {},
     "outputs": []
    }
   ],
   "metadata": {}
  }
 ]
}