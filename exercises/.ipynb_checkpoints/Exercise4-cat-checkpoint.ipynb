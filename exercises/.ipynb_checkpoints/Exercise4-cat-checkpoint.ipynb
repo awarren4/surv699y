{
 "metadata": {
  "name": "",
  "signature": "sha256:fbdbc14e21fba228edf9a9cd499ffacba49b57fe3a1c38df32a9f15b87da2c96"
 },
 "nbformat": 3,
 "nbformat_minor": 0,
 "worksheets": [
  {
   "cells": [
    {
     "cell_type": "code",
     "collapsed": false,
     "input": [
      "%run exercise4.py"
     ],
     "language": "python",
     "metadata": {},
     "outputs": []
    }
   ],
   "metadata": {}
  }
 ]
}